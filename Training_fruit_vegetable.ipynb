{
  "nbformat": 4,
  "nbformat_minor": 0,
  "metadata": {
    "colab": {
      "provenance": []
    },
    "kernelspec": {
      "name": "python3",
      "display_name": "Python 3"
    },
    "language_info": {
      "name": "python"
    }
  },
  "cells": [
    {
      "cell_type": "markdown",
      "source": [
        "#Importing Dataset"
      ],
      "metadata": {
        "id": "EPqHiymBOvaU"
      }
    },
    {
      "cell_type": "code",
      "execution_count": 1,
      "metadata": {
        "colab": {
          "base_uri": "https://localhost:8080/"
        },
        "id": "teedWyyfOfwa",
        "outputId": "beff9632-bc4d-420b-d60f-7ac7097e1ad5"
      },
      "outputs": [
        {
          "output_type": "stream",
          "name": "stdout",
          "text": [
            "Drive already mounted at /content/drive; to attempt to forcibly remount, call drive.mount(\"/content/drive\", force_remount=True).\n"
          ]
        }
      ],
      "source": [
        "from google.colab import drive\n",
        "drive.mount('/content/drive')"
      ]
    },
    {
      "cell_type": "markdown",
      "source": [
        "#Importing Libraries"
      ],
      "metadata": {
        "id": "AnAZI4J8Nw0y"
      }
    },
    {
      "cell_type": "code",
      "source": [
        "import tensorflow as tf\n",
        "import matplotlib.pyplot as plt\n",
        "import numpy as np"
      ],
      "metadata": {
        "id": "qhEpRna4NaZw"
      },
      "execution_count": 3,
      "outputs": []
    },
    {
      "cell_type": "markdown",
      "source": [
        "#Data Preprocessing"
      ],
      "metadata": {
        "id": "kkS_Gqz8N9x-"
      }
    },
    {
      "cell_type": "markdown",
      "source": [
        "#Training Image preprocessing"
      ],
      "metadata": {
        "id": "fpXf0EfaOSVl"
      }
    },
    {
      "cell_type": "code",
      "source": [
        "training_set = tf.keras.utils.image_dataset_from_directory(\n",
        "    '/content/drive/MyDrive/Fruit_Vegetable_Data/train',\n",
        "    labels=\"inferred\",\n",
        "    label_mode=\"categorical\",\n",
        "    class_names=None,\n",
        "    color_mode=\"rgb\",\n",
        "    batch_size=32,\n",
        "    image_size=(64, 64),\n",
        "    shuffle=True,\n",
        "    seed=None,\n",
        "    validation_split=None,\n",
        "    subset=None,\n",
        "    interpolation=\"bilinear\",\n",
        "    follow_links=False,\n",
        "    crop_to_aspect_ratio=False\n",
        ")"
      ],
      "metadata": {
        "colab": {
          "base_uri": "https://localhost:8080/"
        },
        "id": "hnvgGGF0N3Jl",
        "outputId": "c8e85696-74cd-466e-df9b-4191056be1f3"
      },
      "execution_count": 13,
      "outputs": [
        {
          "output_type": "stream",
          "name": "stdout",
          "text": [
            "Found 3115 files belonging to 36 classes.\n"
          ]
        }
      ]
    },
    {
      "cell_type": "markdown",
      "source": [
        "#Validation Image Preprocessing"
      ],
      "metadata": {
        "id": "IAs7Lah2RGID"
      }
    },
    {
      "cell_type": "code",
      "source": [
        "validation_set = tf.keras.utils.image_dataset_from_directory(\n",
        "    '/content/drive/MyDrive/Fruit_Vegetable_Data/validation',\n",
        "    labels=\"inferred\",\n",
        "    label_mode=\"categorical\",\n",
        "    class_names=None,\n",
        "    color_mode=\"rgb\",\n",
        "    batch_size=32,\n",
        "    image_size=(64, 64),\n",
        "    shuffle=True,\n",
        "    seed=None,\n",
        "    validation_split=None,\n",
        "    subset=None,\n",
        "    interpolation=\"bilinear\",\n",
        "    follow_links=False,\n",
        "    crop_to_aspect_ratio=False\n",
        ")\n"
      ],
      "metadata": {
        "colab": {
          "base_uri": "https://localhost:8080/"
        },
        "id": "CnbKBGYlOAWE",
        "outputId": "80a821d7-a2b9-4c94-b7fd-8672bec1b364"
      },
      "execution_count": 14,
      "outputs": [
        {
          "output_type": "stream",
          "name": "stdout",
          "text": [
            "Found 359 files belonging to 36 classes.\n"
          ]
        }
      ]
    },
    {
      "cell_type": "markdown",
      "source": [
        "#Building Model"
      ],
      "metadata": {
        "id": "LcMkdEqBSgmW"
      }
    },
    {
      "cell_type": "code",
      "source": [
        "cnn = tf.keras.models.Sequential()"
      ],
      "metadata": {
        "id": "LkZJA0tnSikT"
      },
      "execution_count": 4,
      "outputs": []
    },
    {
      "cell_type": "markdown",
      "source": [
        "#Building Convolution Layer"
      ],
      "metadata": {
        "id": "Wbg4LaVQS5zf"
      }
    },
    {
      "cell_type": "code",
      "source": [
        "cnn.add(tf.keras.layers.Conv2D(filters=64,kernel_size=3,activation='relu',input_shape=[64,64,3]))\n",
        "#cnn.add(tf.keras.layers.Conv2D(filters=32,kernel_size=3,activation='relu'))\n",
        "cnn.add(tf.keras.layers.MaxPool2D(pool_size=2,strides=2))"
      ],
      "metadata": {
        "id": "3-rffTpxS4GL"
      },
      "execution_count": 5,
      "outputs": []
    },
    {
      "cell_type": "code",
      "source": [
        "cnn.add(tf.keras.layers.Conv2D(filters=64,kernel_size=3,activation='relu'))\n",
        "#cnn.add(tf.keras.layers.Conv2D(filters=64,kernel_size=3,activation='relu'))\n",
        "cnn.add(tf.keras.layers.MaxPool2D(pool_size=2,strides=2))"
      ],
      "metadata": {
        "id": "CRCe2nsXTntC"
      },
      "execution_count": 6,
      "outputs": []
    },
    {
      "cell_type": "code",
      "source": [
        "cnn.add(tf.keras.layers.Dropout(0.5))#To avoid overfitting"
      ],
      "metadata": {
        "id": "xPcZqGmFUDOP"
      },
      "execution_count": 7,
      "outputs": []
    },
    {
      "cell_type": "code",
      "source": [
        "cnn.add(tf.keras.layers.Flatten())"
      ],
      "metadata": {
        "id": "cAIu4zsNUJ6m"
      },
      "execution_count": 8,
      "outputs": []
    },
    {
      "cell_type": "code",
      "source": [
        "cnn.add(tf.keras.layers.Dense(units=128,activation='relu'))"
      ],
      "metadata": {
        "id": "SQAl1U-XUNYe"
      },
      "execution_count": 9,
      "outputs": []
    },
    {
      "cell_type": "code",
      "source": [
        "#Output Layer\n",
        "cnn.add(tf.keras.layers.Dense(units=36,activation='softmax'))"
      ],
      "metadata": {
        "id": "XYG3iOD4UYS2"
      },
      "execution_count": 10,
      "outputs": []
    },
    {
      "cell_type": "markdown",
      "source": [
        "#Compiling and Training Phase"
      ],
      "metadata": {
        "id": "298RbI_HUzSM"
      }
    },
    {
      "cell_type": "code",
      "source": [
        "cnn.compile(optimizer='rmsprop',loss='categorical_crossentropy',metrics=['accuracy'])"
      ],
      "metadata": {
        "id": "rzYfTTGOUp-x"
      },
      "execution_count": 11,
      "outputs": []
    },
    {
      "cell_type": "code",
      "source": [
        "training_history=cnn.fit(x=training_set,validation_data=validation_set,epochs=30)"
      ],
      "metadata": {
        "colab": {
          "base_uri": "https://localhost:8080/"
        },
        "id": "Wx1SBCFlVLBZ",
        "outputId": "fda15ca6-0621-4509-e38b-4939fa84b6b5"
      },
      "execution_count": 16,
      "outputs": [
        {
          "output_type": "stream",
          "name": "stdout",
          "text": [
            "Epoch 1/30\n",
            "98/98 [==============================] - 1150s 12s/step - loss: 9.2767 - accuracy: 0.0424 - val_loss: 12.8399 - val_accuracy: 0.0306\n",
            "Epoch 2/30\n",
            "98/98 [==============================] - 120s 1s/step - loss: 4.5076 - accuracy: 0.0571 - val_loss: 3.3920 - val_accuracy: 0.1337\n",
            "Epoch 3/30\n",
            "98/98 [==============================] - 119s 1s/step - loss: 3.9022 - accuracy: 0.0973 - val_loss: 3.1315 - val_accuracy: 0.2117\n",
            "Epoch 4/30\n",
            "98/98 [==============================] - 117s 1s/step - loss: 3.8447 - accuracy: 0.1438 - val_loss: 5.2457 - val_accuracy: 0.1253\n",
            "Epoch 5/30\n",
            "98/98 [==============================] - 124s 1s/step - loss: 3.4120 - accuracy: 0.2067 - val_loss: 2.4868 - val_accuracy: 0.3760\n",
            "Epoch 6/30\n",
            "98/98 [==============================] - 110s 1s/step - loss: 3.1617 - accuracy: 0.2677 - val_loss: 2.5062 - val_accuracy: 0.4875\n",
            "Epoch 7/30\n",
            "98/98 [==============================] - 118s 1s/step - loss: 2.8802 - accuracy: 0.3252 - val_loss: 2.8075 - val_accuracy: 0.3816\n",
            "Epoch 8/30\n",
            "98/98 [==============================] - 110s 1s/step - loss: 2.6794 - accuracy: 0.3746 - val_loss: 1.8977 - val_accuracy: 0.5766\n",
            "Epoch 9/30\n",
            "98/98 [==============================] - 123s 1s/step - loss: 2.3871 - accuracy: 0.4411 - val_loss: 2.0723 - val_accuracy: 0.5376\n",
            "Epoch 10/30\n",
            "98/98 [==============================] - 110s 1s/step - loss: 2.6987 - accuracy: 0.4658 - val_loss: 7.2469 - val_accuracy: 0.2423\n",
            "Epoch 11/30\n",
            "98/98 [==============================] - 117s 1s/step - loss: 2.5366 - accuracy: 0.5262 - val_loss: 1.2754 - val_accuracy: 0.7632\n",
            "Epoch 12/30\n",
            "98/98 [==============================] - 117s 1s/step - loss: 1.7897 - accuracy: 0.5579 - val_loss: 1.5065 - val_accuracy: 0.7409\n",
            "Epoch 13/30\n",
            "98/98 [==============================] - 119s 1s/step - loss: 1.7221 - accuracy: 0.5891 - val_loss: 1.5451 - val_accuracy: 0.7075\n",
            "Epoch 14/30\n",
            "98/98 [==============================] - 118s 1s/step - loss: 1.7284 - accuracy: 0.6141 - val_loss: 1.2538 - val_accuracy: 0.7911\n",
            "Epoch 15/30\n",
            "98/98 [==============================] - 107s 1s/step - loss: 1.7008 - accuracy: 0.6414 - val_loss: 1.1563 - val_accuracy: 0.8273\n",
            "Epoch 16/30\n",
            "98/98 [==============================] - 109s 1s/step - loss: 1.6602 - accuracy: 0.6610 - val_loss: 1.1507 - val_accuracy: 0.8189\n",
            "Epoch 17/30\n",
            "98/98 [==============================] - 109s 1s/step - loss: 1.4181 - accuracy: 0.6864 - val_loss: 1.3311 - val_accuracy: 0.7911\n",
            "Epoch 18/30\n",
            "98/98 [==============================] - 110s 1s/step - loss: 1.6483 - accuracy: 0.6970 - val_loss: 1.0696 - val_accuracy: 0.8357\n",
            "Epoch 19/30\n",
            "98/98 [==============================] - 124s 1s/step - loss: 1.3967 - accuracy: 0.7191 - val_loss: 2.1018 - val_accuracy: 0.6964\n",
            "Epoch 20/30\n",
            "98/98 [==============================] - 110s 1s/step - loss: 1.3640 - accuracy: 0.7188 - val_loss: 1.3522 - val_accuracy: 0.8552\n",
            "Epoch 21/30\n",
            "98/98 [==============================] - 118s 1s/step - loss: 1.2241 - accuracy: 0.7345 - val_loss: 1.1062 - val_accuracy: 0.8691\n",
            "Epoch 22/30\n",
            "98/98 [==============================] - 109s 1s/step - loss: 1.2302 - accuracy: 0.7576 - val_loss: 1.3637 - val_accuracy: 0.8635\n",
            "Epoch 23/30\n",
            "98/98 [==============================] - 118s 1s/step - loss: 1.0741 - accuracy: 0.7657 - val_loss: 1.0092 - val_accuracy: 0.8747\n",
            "Epoch 24/30\n",
            "98/98 [==============================] - 112s 1s/step - loss: 1.1366 - accuracy: 0.7676 - val_loss: 1.4709 - val_accuracy: 0.8524\n",
            "Epoch 25/30\n",
            "98/98 [==============================] - 108s 1s/step - loss: 1.1075 - accuracy: 0.7740 - val_loss: 1.0610 - val_accuracy: 0.8969\n",
            "Epoch 26/30\n",
            "98/98 [==============================] - 118s 1s/step - loss: 1.0713 - accuracy: 0.7949 - val_loss: 1.1475 - val_accuracy: 0.9109\n",
            "Epoch 27/30\n",
            "98/98 [==============================] - 118s 1s/step - loss: 0.9000 - accuracy: 0.8202 - val_loss: 1.0452 - val_accuracy: 0.9081\n",
            "Epoch 28/30\n",
            "98/98 [==============================] - 119s 1s/step - loss: 1.0029 - accuracy: 0.8096 - val_loss: 1.1643 - val_accuracy: 0.9053\n",
            "Epoch 29/30\n",
            "98/98 [==============================] - 117s 1s/step - loss: 0.8660 - accuracy: 0.8334 - val_loss: 1.3328 - val_accuracy: 0.9192\n",
            "Epoch 30/30\n",
            "98/98 [==============================] - 111s 1s/step - loss: 0.8943 - accuracy: 0.8250 - val_loss: 4.7903 - val_accuracy: 0.6407\n"
          ]
        }
      ]
    },
    {
      "cell_type": "markdown",
      "source": [
        "#Saving Model"
      ],
      "metadata": {
        "id": "pFO9eJP_V9fI"
      }
    },
    {
      "cell_type": "code",
      "source": [
        "cnn.save('trained_model.h5')"
      ],
      "metadata": {
        "colab": {
          "base_uri": "https://localhost:8080/"
        },
        "id": "lLMqrZc3V01l",
        "outputId": "4b433c1a-e0ff-4696-a000-99fd6d570589"
      },
      "execution_count": 23,
      "outputs": [
        {
          "output_type": "stream",
          "name": "stderr",
          "text": [
            "/usr/local/lib/python3.10/dist-packages/keras/src/engine/training.py:3103: UserWarning: You are saving your model as an HDF5 file via `model.save()`. This file format is considered legacy. We recommend using instead the native Keras format, e.g. `model.save('my_model.keras')`.\n",
            "  saving_api.save_model(\n"
          ]
        }
      ]
    },
    {
      "cell_type": "code",
      "source": [
        "training_history.history #dictionary"
      ],
      "metadata": {
        "colab": {
          "base_uri": "https://localhost:8080/"
        },
        "id": "miCSzqD8WbfW",
        "outputId": "9601a50b-b49e-4362-c662-8e4928624d6b"
      },
      "execution_count": 24,
      "outputs": [
        {
          "output_type": "execute_result",
          "data": {
            "text/plain": [
              "{'loss': [9.276687622070312,\n",
              "  4.507567882537842,\n",
              "  3.9021894931793213,\n",
              "  3.844696521759033,\n",
              "  3.412000894546509,\n",
              "  3.161696434020996,\n",
              "  2.880221366882324,\n",
              "  2.6793649196624756,\n",
              "  2.3870701789855957,\n",
              "  2.6986987590789795,\n",
              "  2.536566972732544,\n",
              "  1.7896803617477417,\n",
              "  1.7221193313598633,\n",
              "  1.7283594608306885,\n",
              "  1.7008373737335205,\n",
              "  1.6601974964141846,\n",
              "  1.4180731773376465,\n",
              "  1.6482893228530884,\n",
              "  1.396722674369812,\n",
              "  1.364030361175537,\n",
              "  1.2241336107254028,\n",
              "  1.2301936149597168,\n",
              "  1.0740588903427124,\n",
              "  1.1366312503814697,\n",
              "  1.1075493097305298,\n",
              "  1.0713409185409546,\n",
              "  0.8999506831169128,\n",
              "  1.0029464960098267,\n",
              "  0.866042971611023,\n",
              "  0.8942648768424988],\n",
              " 'accuracy': [0.0423756018280983,\n",
              "  0.05714285746216774,\n",
              "  0.09727127104997635,\n",
              "  0.14382022619247437,\n",
              "  0.2067415714263916,\n",
              "  0.2677367627620697,\n",
              "  0.3252006471157074,\n",
              "  0.3746388554573059,\n",
              "  0.44109150767326355,\n",
              "  0.4658105969429016,\n",
              "  0.5261636972427368,\n",
              "  0.5579454302787781,\n",
              "  0.589085042476654,\n",
              "  0.6141251921653748,\n",
              "  0.6414124965667725,\n",
              "  0.6609951853752136,\n",
              "  0.6863563656806946,\n",
              "  0.6969502568244934,\n",
              "  0.7191011309623718,\n",
              "  0.7187801003456116,\n",
              "  0.7345104217529297,\n",
              "  0.7576243877410889,\n",
              "  0.7656500935554504,\n",
              "  0.7675762176513672,\n",
              "  0.7739967703819275,\n",
              "  0.7948635816574097,\n",
              "  0.8202247023582458,\n",
              "  0.809630811214447,\n",
              "  0.8333868384361267,\n",
              "  0.8250401020050049],\n",
              " 'val_loss': [12.839863777160645,\n",
              "  3.3920130729675293,\n",
              "  3.1314704418182373,\n",
              "  5.245729923248291,\n",
              "  2.486762523651123,\n",
              "  2.506179094314575,\n",
              "  2.807525634765625,\n",
              "  1.8976764678955078,\n",
              "  2.072312116622925,\n",
              "  7.246935844421387,\n",
              "  1.2753809690475464,\n",
              "  1.5064853429794312,\n",
              "  1.5451116561889648,\n",
              "  1.2538352012634277,\n",
              "  1.1563321352005005,\n",
              "  1.1506717205047607,\n",
              "  1.3311421871185303,\n",
              "  1.0695552825927734,\n",
              "  2.101768970489502,\n",
              "  1.3521524667739868,\n",
              "  1.1061503887176514,\n",
              "  1.363685131072998,\n",
              "  1.0092461109161377,\n",
              "  1.470923662185669,\n",
              "  1.0610077381134033,\n",
              "  1.1475218534469604,\n",
              "  1.0452052354812622,\n",
              "  1.164347529411316,\n",
              "  1.3328109979629517,\n",
              "  4.79033088684082],\n",
              " 'val_accuracy': [0.03064066916704178,\n",
              "  0.13370473682880402,\n",
              "  0.21169915795326233,\n",
              "  0.12534819543361664,\n",
              "  0.3760445713996887,\n",
              "  0.48746517300605774,\n",
              "  0.38161560893058777,\n",
              "  0.5766016840934753,\n",
              "  0.5376044511795044,\n",
              "  0.2423398345708847,\n",
              "  0.7632312178611755,\n",
              "  0.7409470677375793,\n",
              "  0.7075209021568298,\n",
              "  0.7910863757133484,\n",
              "  0.8272980451583862,\n",
              "  0.8189415335655212,\n",
              "  0.7910863757133484,\n",
              "  0.835654616355896,\n",
              "  0.6963788270950317,\n",
              "  0.8551532030105591,\n",
              "  0.8690807819366455,\n",
              "  0.8635097742080688,\n",
              "  0.8746517896652222,\n",
              "  0.8523676991462708,\n",
              "  0.8969359397888184,\n",
              "  0.9108635187149048,\n",
              "  0.9080780148506165,\n",
              "  0.9052924513816833,\n",
              "  0.9192200303077698,\n",
              "  0.640668511390686]}"
            ]
          },
          "metadata": {},
          "execution_count": 24
        }
      ]
    },
    {
      "cell_type": "code",
      "source": [
        "#Recording History in json\n",
        "import json\n",
        "with open('training_hist.json','w') as f:\n",
        "  json.dump(training_history.history,f)"
      ],
      "metadata": {
        "id": "5gBim-LIWJvr"
      },
      "execution_count": 25,
      "outputs": []
    },
    {
      "cell_type": "code",
      "source": [
        "print(training_history.history.keys())"
      ],
      "metadata": {
        "colab": {
          "base_uri": "https://localhost:8080/"
        },
        "id": "eqQxYufAXB9G",
        "outputId": "b179efdf-8bdd-4174-f693-53e84d210eb4"
      },
      "execution_count": 26,
      "outputs": [
        {
          "output_type": "stream",
          "name": "stdout",
          "text": [
            "dict_keys(['loss', 'accuracy', 'val_loss', 'val_accuracy'])\n"
          ]
        }
      ]
    },
    {
      "cell_type": "markdown",
      "source": [
        "#Calculating Accuracy of Model Achieved on Validation set\n"
      ],
      "metadata": {
        "id": "1EHtmkGRXDAL"
      }
    },
    {
      "cell_type": "code",
      "source": [
        "print(\"Validation set Accuracy: {} %\".format(training_history.history['val_accuracy'][-2]*100))"
      ],
      "metadata": {
        "colab": {
          "base_uri": "https://localhost:8080/"
        },
        "id": "Le8keMceXJhX",
        "outputId": "ecb90434-4a9c-49fb-8285-82ee32cbce38"
      },
      "execution_count": 32,
      "outputs": [
        {
          "output_type": "stream",
          "name": "stdout",
          "text": [
            "Validation set Accuracy: 91.92200303077698 %\n"
          ]
        }
      ]
    },
    {
      "cell_type": "markdown",
      "source": [
        "#Accuracy Visualization"
      ],
      "metadata": {
        "id": "zqSNhP8_ZvTX"
      }
    },
    {
      "cell_type": "markdown",
      "source": [
        "#Training Visualization"
      ],
      "metadata": {
        "id": "JI2HBAb2ZzyL"
      }
    },
    {
      "cell_type": "code",
      "source": [
        "#training_history.history['accuracy']"
      ],
      "metadata": {
        "id": "dJBXxSGHaTwz"
      },
      "execution_count": 28,
      "outputs": []
    },
    {
      "cell_type": "code",
      "source": [
        "epochs = [i for i in range(1,31)]\n",
        "plt.plot(epochs,training_history.history['accuracy'],color='red')\n",
        "plt.xlabel('No. of Epochs')\n",
        "plt.ylabel('Traiining Accuracy')\n",
        "plt.title('Visualization of Training Accuracy Result')\n",
        "plt.show()"
      ],
      "metadata": {
        "colab": {
          "base_uri": "https://localhost:8080/",
          "height": 472
        },
        "id": "LTSdMtPJZysV",
        "outputId": "29051a56-b71d-4ebd-bde2-8b01d571ab87"
      },
      "execution_count": 34,
      "outputs": [
        {
          "output_type": "display_data",
          "data": {
            "text/plain": [
              "<Figure size 640x480 with 1 Axes>"
            ],
            "image/png": "[encoded data removed]"
          },
          "metadata": {}
        }
      ]
    },
    {
      "cell_type": "markdown",
      "source": [
        "#Validation Accuracy"
      ],
      "metadata": {
        "id": "kgnq9de-aY_i"
      }
    },
    {
      "cell_type": "code",
      "source": [
        "plt.plot(epochs,training_history.history['val_accuracy'],color='blue')\n",
        "plt.xlabel('No. of Epochs')\n",
        "plt.ylabel('Validation Accuracy')\n",
        "plt.title('Visualization of Validation Accuracy Result')\n",
        "plt.show()"
      ],
      "metadata": {
        "colab": {
          "base_uri": "https://localhost:8080/",
          "height": 472
        },
        "id": "Fp9Q2aRUaWvq",
        "outputId": "1e62d0b2-df2e-4ff5-b633-088b3bbaccc9"
      },
      "execution_count": 30,
      "outputs": [
        {
          "output_type": "display_data",
          "data": {
            "text/plain": [
              "<Figure size 640x480 with 1 Axes>"
            ],
            "image/png": "[encoded data removed]"
          },
          "metadata": {}
        }
      ]
    },
    {
      "cell_type": "markdown",
      "source": [
        "#Test set Evaluation"
      ],
      "metadata": {
        "id": "sMofsG03aiAp"
      }
    },
    {
      "cell_type": "code",
      "source": [
        "test_set = tf.keras.utils.image_dataset_from_directory(\n",
        "    '/content/drive/MyDrive/Fruit_Vegetable_Data/test',\n",
        "    labels=\"inferred\",\n",
        "    label_mode=\"categorical\",\n",
        "    class_names=None,\n",
        "    color_mode=\"rgb\",\n",
        "    batch_size=32,\n",
        "    image_size=(64, 64),\n",
        "    shuffle=True,\n",
        "    seed=None,\n",
        "    validation_split=None,\n",
        "    subset=None,\n",
        "    interpolation=\"bilinear\",\n",
        "    follow_links=False,\n",
        "    crop_to_aspect_ratio=False\n",
        ")\n"
      ],
      "metadata": {
        "colab": {
          "base_uri": "https://localhost:8080/"
        },
        "id": "veUU_YnTakgf",
        "outputId": "c703a99b-31ab-44d0-b02c-a6128e7cac9b"
      },
      "execution_count": 31,
      "outputs": [
        {
          "output_type": "stream",
          "name": "stdout",
          "text": [
            "Found 359 files belonging to 36 classes.\n"
          ]
        }
      ]
    },
    {
      "cell_type": "code",
      "source": [
        "test_loss,test_acc = cnn.evaluate(test_set)\n",
        "print('Test accuracy:', test_acc)"
      ],
      "metadata": {
        "colab": {
          "base_uri": "https://localhost:8080/"
        },
        "id": "BI9JtP8Laorn",
        "outputId": "cb2ffd1f-4539-40d6-95f1-21c5823fdac1"
      },
      "execution_count": 35,
      "outputs": [
        {
          "output_type": "stream",
          "name": "stdout",
          "text": [
            "12/12 [==============================] - 108s 2s/step - loss: 4.7413 - accuracy: 0.6435\n",
            "Test accuracy: 0.6434540152549744\n"
          ]
        }
      ]
    }
  ]
}