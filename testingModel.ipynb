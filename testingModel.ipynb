{
  "nbformat": 4,
  "nbformat_minor": 0,
  "metadata": {
    "colab": {
      "provenance": []
    },
    "kernelspec": {
      "name": "python3",
      "display_name": "Python 3"
    },
    "language_info": {
      "name": "python"
    }
  },
  "cells": [
    {
      "cell_type": "markdown",
      "source": [
        "#Importing Libraries"
      ],
      "metadata": {
        "id": "03IYnpQCc3EG"
      }
    },
    {
      "cell_type": "code",
      "execution_count": 1,
      "metadata": {
        "id": "oU2MHp7ucD5z"
      },
      "outputs": [],
      "source": [
        "import numpy as np\n",
        "import tensorflow as tf\n",
        "from keras.preprocessing.image import ImageDataGenerator\n",
        "import matplotlib.pyplot as plt"
      ]
    },
    {
      "cell_type": "code",
      "source": [
        "from google.colab import drive\n",
        "drive.mount('/content/drive')"
      ],
      "metadata": {
        "colab": {
          "base_uri": "https://localhost:8080/"
        },
        "id": "kuBiKYx0c781",
        "outputId": "b9412923-533d-4989-fbdd-f647b5616f4a"
      },
      "execution_count": 2,
      "outputs": [
        {
          "output_type": "stream",
          "name": "stdout",
          "text": [
            "Mounted at /content/drive\n"
          ]
        }
      ]
    },
    {
      "cell_type": "markdown",
      "source": [
        "#Loading Model"
      ],
      "metadata": {
        "id": "2ZqJxPiQdR3X"
      }
    },
    {
      "cell_type": "code",
      "source": [
        "cnn = tf.keras.models.load_model('/content/trained_model.h5')"
      ],
      "metadata": {
        "id": "buwIgMZhdDU8"
      },
      "execution_count": null,
      "outputs": []
    },
    {
      "cell_type": "markdown",
      "source": [
        "#Visualising and Performing Prediction on Single image\n"
      ],
      "metadata": {
        "id": "V4yLNGy8dlC2"
      }
    },
    {
      "cell_type": "code",
      "source": [
        "#Test Image Visualization\n",
        "import cv2\n",
        "image_path = '/content/drive/MyDrive/Fruit_Vegetable_Data/test/corn/Image_1.jpg'\n",
        "# Reading an image in default mode\n",
        "img = cv2.imread(image_path)\n",
        "img = cv2.cvtColor(img,cv2.COLOR_BGR2RGB) #Converting BGR to RGB\n",
        "# Displaying the image\n",
        "plt.imshow(img)\n",
        "plt.title('Test Image')\n",
        "plt.xticks([])\n",
        "plt.yticks([])\n",
        "plt.show()"
      ],
      "metadata": {
        "id": "_WXK5h4BdrD8"
      },
      "execution_count": null,
      "outputs": []
    },
    {
      "cell_type": "markdown",
      "source": [
        "#Testing Model"
      ],
      "metadata": {
        "id": "TwmDDD7ad0lf"
      }
    },
    {
      "cell_type": "code",
      "source": [
        "image = tf.keras.preprocessing.image.load_img(image_path,target_size=(64,64))\n",
        "input_arr = tf.keras.preprocessing.image.img_to_array(image)\n",
        "input_arr = np.array([input_arr])  # Convert single image to a batch.\n",
        "predictions = cnn.predict(input_arr)"
      ],
      "metadata": {
        "id": "pvtAAAjLdzOa"
      },
      "execution_count": null,
      "outputs": []
    },
    {
      "cell_type": "code",
      "source": [
        "print(predictions)"
      ],
      "metadata": {
        "id": "qXYhLSDfebvz"
      },
      "execution_count": null,
      "outputs": []
    },
    {
      "cell_type": "code",
      "source": [
        "# test_set.class_names"
      ],
      "metadata": {
        "id": "GsaTDcrxedOn"
      },
      "execution_count": null,
      "outputs": []
    },
    {
      "cell_type": "code",
      "source": [
        "result_index = np.argmax(predictions) #Return index of max element\n",
        "print(result_index)"
      ],
      "metadata": {
        "id": "12v29lQTeg7P"
      },
      "execution_count": null,
      "outputs": []
    },
    {
      "cell_type": "code",
      "source": [
        "# Displaying the image\n",
        "plt.imshow(img)\n",
        "plt.title('Test Image')\n",
        "plt.xticks([])\n",
        "plt.yticks([])\n",
        "plt.show()"
      ],
      "metadata": {
        "id": "Uryi13dMelSK"
      },
      "execution_count": null,
      "outputs": []
    },
    {
      "cell_type": "code",
      "source": [
        "#Single image Prediction\n",
        "print(\"It's a {}\".format(test_set.class_names[result_index]))"
      ],
      "metadata": {
        "id": "0DkBzrp1en6w"
      },
      "execution_count": null,
      "outputs": []
    }
  ]
}